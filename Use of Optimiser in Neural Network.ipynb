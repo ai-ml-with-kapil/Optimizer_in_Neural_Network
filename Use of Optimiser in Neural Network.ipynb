{
 "cells": [
  {
   "cell_type": "markdown",
   "metadata": {},
   "source": [
    "# <u>Use of Optimizer in Neural Network</u>\n",
    "\n",
    "---\n",
    "\n",
    "### Kapil Panwar\n",
    "### Lead Data Scientist, Mahindra Teqo Pvt Ltd.\n",
    "Connect with me:\n",
    "1. [Whatsapp](https://qrgo.page.link/TMiTp) \n",
    "2. [YouTube](https://qrgo.page.link/wh5tq)"
   ]
  },
  {
   "cell_type": "markdown",
   "metadata": {},
   "source": [
    "\n",
    "---"
   ]
  },
  {
   "cell_type": "code",
   "execution_count": 1,
   "metadata": {
    "execution": {
     "iopub.execute_input": "2020-09-17T02:56:10.720638Z",
     "iopub.status.busy": "2020-09-17T02:56:10.720425Z",
     "iopub.status.idle": "2020-09-17T02:56:12.976857Z",
     "shell.execute_reply": "2020-09-17T02:56:12.975956Z",
     "shell.execute_reply.started": "2020-09-17T02:56:10.720610Z"
    }
   },
   "outputs": [],
   "source": [
    "import tensorflow as tf\n",
    "import matplotlib.pyplot as plt\n",
    "import numpy as np\n",
    "import pandas as pd\n",
    "import seaborn as sns\n",
    "from tensorflow.keras.models import Sequential\n",
    "from tensorflow.keras.layers import Dense, Conv2D, Dropout, Flatten, MaxPooling2D\n",
    "sns.set()"
   ]
  },
  {
   "cell_type": "markdown",
   "metadata": {},
   "source": [
    "Tensorflow verion"
   ]
  },
  {
   "cell_type": "code",
   "execution_count": 2,
   "metadata": {
    "execution": {
     "iopub.execute_input": "2020-09-17T02:56:12.978181Z",
     "iopub.status.busy": "2020-09-17T02:56:12.977964Z",
     "iopub.status.idle": "2020-09-17T02:56:12.982948Z",
     "shell.execute_reply": "2020-09-17T02:56:12.982094Z",
     "shell.execute_reply.started": "2020-09-17T02:56:12.978153Z"
    }
   },
   "outputs": [
    {
     "name": "stdout",
     "output_type": "stream",
     "text": [
      "2.3.0\n"
     ]
    }
   ],
   "source": [
    "print(tf.__version__)"
   ]
  },
  {
   "cell_type": "markdown",
   "metadata": {},
   "source": [
    "## Loading MNIST data\n",
    "\n",
    "The data contain gray-scale images of hand-drawn digits, from zero through nine.\n",
    "\n",
    "Each image is 28 pixels in height and 28 pixels in width, for a total of 784 pixels in total. Each pixel has a single pixel-value associated with it, indicating the lightness or darkness of that pixel, with higher numbers meaning darker. This pixel-value is an integer between 0 and 255, inclusive."
   ]
  },
  {
   "cell_type": "code",
   "execution_count": 3,
   "metadata": {
    "execution": {
     "iopub.execute_input": "2020-09-17T02:56:12.984198Z",
     "iopub.status.busy": "2020-09-17T02:56:12.983994Z",
     "iopub.status.idle": "2020-09-17T02:56:13.279999Z",
     "shell.execute_reply": "2020-09-17T02:56:13.279286Z",
     "shell.execute_reply.started": "2020-09-17T02:56:12.984171Z"
    }
   },
   "outputs": [],
   "source": [
    "(x_train, y_train), (x_test, y_test) = tf.keras.datasets.mnist.load_data()"
   ]
  },
  {
   "cell_type": "markdown",
   "metadata": {},
   "source": [
    "Checking shape of dataset "
   ]
  },
  {
   "cell_type": "code",
   "execution_count": 4,
   "metadata": {
    "execution": {
     "iopub.execute_input": "2020-09-17T02:56:13.283028Z",
     "iopub.status.busy": "2020-09-17T02:56:13.282812Z",
     "iopub.status.idle": "2020-09-17T02:56:13.290197Z",
     "shell.execute_reply": "2020-09-17T02:56:13.289410Z",
     "shell.execute_reply.started": "2020-09-17T02:56:13.283000Z"
    }
   },
   "outputs": [
    {
     "data": {
      "text/plain": [
       "((60000, 28, 28), (60000,), (10000, 28, 28), (10000,))"
      ]
     },
     "execution_count": 4,
     "metadata": {},
     "output_type": "execute_result"
    }
   ],
   "source": [
    "x_train.shape, y_train.shape, x_test.shape, y_test.shape"
   ]
  },
  {
   "cell_type": "markdown",
   "metadata": {},
   "source": [
    "Checking a random image (7777 out of 60000)\n"
   ]
  },
  {
   "cell_type": "code",
   "execution_count": 5,
   "metadata": {
    "execution": {
     "iopub.execute_input": "2020-09-17T02:56:13.291795Z",
     "iopub.status.busy": "2020-09-17T02:56:13.291490Z",
     "iopub.status.idle": "2020-09-17T02:56:13.664275Z",
     "shell.execute_reply": "2020-09-17T02:56:13.663420Z",
     "shell.execute_reply.started": "2020-09-17T02:56:13.291766Z"
    }
   },
   "outputs": [
    {
     "name": "stdout",
     "output_type": "stream",
     "text": [
      "8\n"
     ]
    },
    {
     "data": {
      "text/plain": [
       "<matplotlib.image.AxesImage at 0x7f8674d70450>"
      ]
     },
     "execution_count": 5,
     "metadata": {},
     "output_type": "execute_result"
    },
    {
     "data": {
      "image/png": "[encoded data removed]",
      "text/plain": [
       "<Figure size 432x288 with 1 Axes>"
      ]
     },
     "metadata": {},
     "output_type": "display_data"
    }
   ],
   "source": [
    "image_index = 7777 \n",
    "print(y_train[image_index])\n",
    "plt.imshow(x_train[image_index], cmap='Greys')"
   ]
  },
  {
   "cell_type": "code",
   "execution_count": 6,
   "metadata": {
    "execution": {
     "iopub.execute_input": "2020-09-17T02:56:13.665453Z",
     "iopub.status.busy": "2020-09-17T02:56:13.665247Z",
     "iopub.status.idle": "2020-09-17T02:56:13.734478Z",
     "shell.execute_reply": "2020-09-17T02:56:13.733689Z",
     "shell.execute_reply.started": "2020-09-17T02:56:13.665427Z"
    }
   },
   "outputs": [
    {
     "name": "stdout",
     "output_type": "stream",
     "text": [
      "x_train shape: (60000, 28, 28, 1)\n",
      "Number of images in x_train 60000\n",
      "Number of images in x_test 10000\n"
     ]
    }
   ],
   "source": [
    "# Reshaping the array to 4-dims so that it can work with the Keras API\n",
    "x_train = x_train.reshape(x_train.shape[0], 28, 28, 1)\n",
    "x_test = x_test.reshape(x_test.shape[0], 28, 28, 1)\n",
    "input_shape = (28, 28, 1)\n",
    "# Making sure that the values are float so that we can get decimal points after division\n",
    "x_train = x_train.astype('float32')\n",
    "x_test = x_test.astype('float32')\n",
    "# Normalizing the RGB codes by dividing it to the max RGB value.\n",
    "x_train /= 255\n",
    "x_test /= 255\n",
    "print('x_train shape:', x_train.shape)\n",
    "print('Number of images in x_train', x_train.shape[0])\n",
    "print('Number of images in x_test', x_test.shape[0])"
   ]
  },
  {
   "cell_type": "markdown",
   "metadata": {},
   "source": [
    "## Preparing function for model creation"
   ]
  },
  {
   "cell_type": "code",
   "execution_count": 7,
   "metadata": {
    "execution": {
     "iopub.execute_input": "2020-09-17T02:56:13.735653Z",
     "iopub.status.busy": "2020-09-17T02:56:13.735450Z",
     "iopub.status.idle": "2020-09-17T02:56:13.744799Z",
     "shell.execute_reply": "2020-09-17T02:56:13.744004Z",
     "shell.execute_reply.started": "2020-09-17T02:56:13.735626Z"
    }
   },
   "outputs": [],
   "source": [
    "def model_creator(optimizer_name):\n",
    "    print(\"************** \",optimizer_name,\" *************\\n\")\n",
    "    model = Sequential()\n",
    "    model.add(Conv2D(28, kernel_size=(3,3), input_shape=input_shape))\n",
    "    model.add(MaxPooling2D(pool_size=(2, 2)))\n",
    "    model.add(Flatten()) # Flattening the 2D arrays for fully connected layers\n",
    "    model.add(Dense(128, activation=tf.nn.relu))\n",
    "    model.add(Dropout(0.2))\n",
    "    model.add(Dense(10,activation=tf.nn.softmax))\n",
    "    model.compile(optimizer=optimizer_name, \n",
    "              loss='sparse_categorical_crossentropy', \n",
    "              metrics=['accuracy'])\n",
    "    history= model.fit(x=x_train,y=y_train, epochs=15)\n",
    "    print(\"\\n************** Accuracy of \",optimizer_name,\" *************\\n\")\n",
    "    accuracy = np.round(model.evaluate(x_test, y_test)[1]*100,2)\n",
    "    print(\"\\n************************************************************\\n\")\n",
    "    return history, accuracy"
   ]
  },
  {
   "cell_type": "markdown",
   "metadata": {},
   "source": [
    "## Trained model with all 8 optimization techniques available."
   ]
  },
  {
   "cell_type": "code",
   "execution_count": 8,
   "metadata": {
    "execution": {
     "iopub.execute_input": "2020-09-17T02:56:13.745936Z",
     "iopub.status.busy": "2020-09-17T02:56:13.745727Z",
     "iopub.status.idle": "2020-09-17T03:21:41.095282Z",
     "shell.execute_reply": "2020-09-17T03:21:41.094319Z",
     "shell.execute_reply.started": "2020-09-17T02:56:13.745907Z"
    }
   },
   "outputs": [
    {
     "name": "stdout",
     "output_type": "stream",
     "text": [
      "**************  sgd  *************\n",
      "\n",
      "Epoch 1/15\n",
      "1875/1875 [==============================] - 12s 6ms/step - loss: 0.4976 - accuracy: 0.8598\n",
      "Epoch 2/15\n",
      "1875/1875 [==============================] - 12s 6ms/step - loss: 0.2284 - accuracy: 0.9320\n",
      "Epoch 3/15\n",
      "1875/1875 [==============================] - 12s 6ms/step - loss: 0.1791 - accuracy: 0.9468\n",
      "Epoch 4/15\n",
      "1875/1875 [==============================] - 12s 6ms/step - loss: 0.1529 - accuracy: 0.9539\n",
      "Epoch 5/15\n",
      "1875/1875 [==============================] - 12s 6ms/step - loss: 0.1354 - accuracy: 0.9590\n",
      "Epoch 6/15\n",
      "1875/1875 [==============================] - 12s 6ms/step - loss: 0.1207 - accuracy: 0.9635\n",
      "Epoch 7/15\n",
      "1875/1875 [==============================] - 12s 6ms/step - loss: 0.1128 - accuracy: 0.9660\n",
      "Epoch 8/15\n",
      "1875/1875 [==============================] - 12s 6ms/step - loss: 0.1043 - accuracy: 0.9687\n",
      "Epoch 9/15\n",
      "1875/1875 [==============================] - 12s 6ms/step - loss: 0.0967 - accuracy: 0.9710\n",
      "Epoch 10/15\n",
      "1875/1875 [==============================] - 12s 6ms/step - loss: 0.0908 - accuracy: 0.9719\n",
      "Epoch 11/15\n",
      "1875/1875 [==============================] - 12s 6ms/step - loss: 0.0848 - accuracy: 0.9740\n",
      "Epoch 12/15\n",
      "1875/1875 [==============================] - 12s 6ms/step - loss: 0.0821 - accuracy: 0.9748\n",
      "Epoch 13/15\n",
      "1875/1875 [==============================] - 12s 6ms/step - loss: 0.0772 - accuracy: 0.9764\n",
      "Epoch 14/15\n",
      "1875/1875 [==============================] - 12s 6ms/step - loss: 0.0745 - accuracy: 0.9771\n",
      "Epoch 15/15\n",
      "1875/1875 [==============================] - 12s 6ms/step - loss: 0.0721 - accuracy: 0.9779\n",
      "\n",
      "************** Accuracy of  sgd  *************\n",
      "\n",
      "313/313 [==============================] - 1s 2ms/step - loss: 0.0600 - accuracy: 0.9824\n",
      "\n",
      "************************************************************\n",
      "\n",
      "**************  adam  *************\n",
      "\n",
      "Epoch 1/15\n",
      "1875/1875 [==============================] - 12s 7ms/step - loss: 0.2184 - accuracy: 0.9329\n",
      "Epoch 2/15\n",
      "1875/1875 [==============================] - 12s 7ms/step - loss: 0.0881 - accuracy: 0.9730\n",
      "Epoch 3/15\n",
      "1875/1875 [==============================] - 12s 7ms/step - loss: 0.0609 - accuracy: 0.9804\n",
      "Epoch 4/15\n",
      "1875/1875 [==============================] - 12s 7ms/step - loss: 0.0443 - accuracy: 0.9862\n",
      "Epoch 5/15\n",
      "1875/1875 [==============================] - 12s 7ms/step - loss: 0.0367 - accuracy: 0.9882\n",
      "Epoch 6/15\n",
      "1875/1875 [==============================] - 12s 7ms/step - loss: 0.0293 - accuracy: 0.9899\n",
      "Epoch 7/15\n",
      "1875/1875 [==============================] - 12s 7ms/step - loss: 0.0249 - accuracy: 0.9915\n",
      "Epoch 8/15\n",
      "1875/1875 [==============================] - 12s 7ms/step - loss: 0.0223 - accuracy: 0.9926\n",
      "Epoch 9/15\n",
      "1875/1875 [==============================] - 12s 7ms/step - loss: 0.0204 - accuracy: 0.9932\n",
      "Epoch 10/15\n",
      "1875/1875 [==============================] - 12s 7ms/step - loss: 0.0192 - accuracy: 0.9934\n",
      "Epoch 11/15\n",
      "1875/1875 [==============================] - 12s 7ms/step - loss: 0.0161 - accuracy: 0.9945\n",
      "Epoch 12/15\n",
      "1875/1875 [==============================] - 12s 7ms/step - loss: 0.0159 - accuracy: 0.9948\n",
      "Epoch 13/15\n",
      "1875/1875 [==============================] - 12s 7ms/step - loss: 0.0147 - accuracy: 0.9952\n",
      "Epoch 14/15\n",
      "1875/1875 [==============================] - 12s 7ms/step - loss: 0.0131 - accuracy: 0.9955\n",
      "Epoch 15/15\n",
      "1875/1875 [==============================] - 12s 7ms/step - loss: 0.0128 - accuracy: 0.9958\n",
      "\n",
      "************** Accuracy of  adam  *************\n",
      "\n",
      "313/313 [==============================] - 1s 2ms/step - loss: 0.0671 - accuracy: 0.9852\n",
      "\n",
      "************************************************************\n",
      "\n",
      "**************  adamax  *************\n",
      "\n",
      "Epoch 1/15\n",
      "1875/1875 [==============================] - 12s 7ms/step - loss: 0.2824 - accuracy: 0.9166\n",
      "Epoch 2/15\n",
      "1875/1875 [==============================] - 12s 7ms/step - loss: 0.1367 - accuracy: 0.9596\n",
      "Epoch 3/15\n",
      "1875/1875 [==============================] - 12s 7ms/step - loss: 0.1009 - accuracy: 0.9702\n",
      "Epoch 4/15\n",
      "1875/1875 [==============================] - 12s 7ms/step - loss: 0.0795 - accuracy: 0.9761\n",
      "Epoch 5/15\n",
      "1875/1875 [==============================] - 12s 7ms/step - loss: 0.0675 - accuracy: 0.9801\n",
      "Epoch 6/15\n",
      "1875/1875 [==============================] - 12s 7ms/step - loss: 0.0564 - accuracy: 0.9834\n",
      "Epoch 7/15\n",
      "1875/1875 [==============================] - 12s 7ms/step - loss: 0.0486 - accuracy: 0.9855\n",
      "Epoch 8/15\n",
      "1875/1875 [==============================] - 12s 7ms/step - loss: 0.0439 - accuracy: 0.9868\n",
      "Epoch 9/15\n",
      "1875/1875 [==============================] - 12s 7ms/step - loss: 0.0365 - accuracy: 0.9893\n",
      "Epoch 10/15\n",
      "1875/1875 [==============================] - 12s 7ms/step - loss: 0.0342 - accuracy: 0.9896\n",
      "Epoch 11/15\n",
      "1875/1875 [==============================] - 12s 7ms/step - loss: 0.0307 - accuracy: 0.9907\n",
      "Epoch 12/15\n",
      "1875/1875 [==============================] - 12s 7ms/step - loss: 0.0285 - accuracy: 0.9910\n",
      "Epoch 13/15\n",
      "1875/1875 [==============================] - 12s 7ms/step - loss: 0.0251 - accuracy: 0.9923\n",
      "Epoch 14/15\n",
      "1875/1875 [==============================] - 12s 7ms/step - loss: 0.0231 - accuracy: 0.9929\n",
      "Epoch 15/15\n",
      "1875/1875 [==============================] - 12s 7ms/step - loss: 0.0210 - accuracy: 0.9937\n",
      "\n",
      "************** Accuracy of  adamax  *************\n",
      "\n",
      "313/313 [==============================] - 1s 2ms/step - loss: 0.0423 - accuracy: 0.9863\n",
      "\n",
      "************************************************************\n",
      "\n",
      "**************  adadelta  *************\n",
      "\n",
      "Epoch 1/15\n",
      "1875/1875 [==============================] - 13s 7ms/step - loss: 2.1771 - accuracy: 0.3109\n",
      "Epoch 2/15\n",
      "1875/1875 [==============================] - 12s 7ms/step - loss: 1.9125 - accuracy: 0.5722\n",
      "Epoch 3/15\n",
      "1875/1875 [==============================] - 13s 7ms/step - loss: 1.6407 - accuracy: 0.6915\n",
      "Epoch 4/15\n",
      "1875/1875 [==============================] - 13s 7ms/step - loss: 1.3847 - accuracy: 0.7420\n",
      "Epoch 5/15\n",
      "1875/1875 [==============================] - 12s 7ms/step - loss: 1.1667 - accuracy: 0.7717\n",
      "Epoch 6/15\n",
      "1875/1875 [==============================] - 12s 7ms/step - loss: 0.9947 - accuracy: 0.7923\n",
      "Epoch 7/15\n",
      "1875/1875 [==============================] - 12s 7ms/step - loss: 0.8693 - accuracy: 0.8045\n",
      "Epoch 8/15\n",
      "1875/1875 [==============================] - 13s 7ms/step - loss: 0.7752 - accuracy: 0.8167\n",
      "Epoch 9/15\n",
      "1875/1875 [==============================] - 13s 7ms/step - loss: 0.7024 - accuracy: 0.8283\n",
      "Epoch 10/15\n",
      "1875/1875 [==============================] - 12s 7ms/step - loss: 0.6529 - accuracy: 0.8339\n",
      "Epoch 11/15\n",
      "1875/1875 [==============================] - 12s 7ms/step - loss: 0.6111 - accuracy: 0.8407\n",
      "Epoch 12/15\n",
      "1875/1875 [==============================] - 12s 7ms/step - loss: 0.5768 - accuracy: 0.8485\n",
      "Epoch 13/15\n",
      "1875/1875 [==============================] - 12s 7ms/step - loss: 0.5487 - accuracy: 0.8526\n",
      "Epoch 14/15\n",
      "1875/1875 [==============================] - 12s 7ms/step - loss: 0.5276 - accuracy: 0.8569\n",
      "Epoch 15/15\n",
      "1875/1875 [==============================] - 12s 7ms/step - loss: 0.5084 - accuracy: 0.8604\n",
      "\n",
      "************** Accuracy of  adadelta  *************\n",
      "\n",
      "313/313 [==============================] - 1s 2ms/step - loss: 0.4253 - accuracy: 0.8931\n",
      "\n",
      "************************************************************\n",
      "\n",
      "**************  adagrad  *************\n",
      "\n",
      "Epoch 1/15\n",
      "1875/1875 [==============================] - 12s 6ms/step - loss: 1.1291 - accuracy: 0.7308\n",
      "Epoch 2/15\n",
      "1875/1875 [==============================] - 12s 6ms/step - loss: 0.4757 - accuracy: 0.8664\n",
      "Epoch 3/15\n",
      "1875/1875 [==============================] - 12s 6ms/step - loss: 0.3924 - accuracy: 0.8864\n",
      "Epoch 4/15\n",
      "1875/1875 [==============================] - 12s 6ms/step - loss: 0.3498 - accuracy: 0.8989\n",
      "Epoch 5/15\n",
      "1875/1875 [==============================] - 12s 6ms/step - loss: 0.3227 - accuracy: 0.9066\n",
      "Epoch 6/15\n",
      "1875/1875 [==============================] - 12s 6ms/step - loss: 0.3047 - accuracy: 0.9109\n",
      "Epoch 7/15\n",
      "1875/1875 [==============================] - 12s 6ms/step - loss: 0.2849 - accuracy: 0.9178\n",
      "Epoch 8/15\n",
      "1875/1875 [==============================] - 12s 6ms/step - loss: 0.2715 - accuracy: 0.9216\n",
      "Epoch 9/15\n",
      "1875/1875 [==============================] - 12s 6ms/step - loss: 0.2600 - accuracy: 0.9248\n",
      "Epoch 10/15\n",
      "1875/1875 [==============================] - 12s 6ms/step - loss: 0.2496 - accuracy: 0.9273\n",
      "Epoch 11/15\n",
      "1875/1875 [==============================] - 12s 6ms/step - loss: 0.2401 - accuracy: 0.9295\n",
      "Epoch 12/15\n",
      "1875/1875 [==============================] - 12s 6ms/step - loss: 0.2338 - accuracy: 0.9316\n",
      "Epoch 13/15\n",
      "1875/1875 [==============================] - 12s 6ms/step - loss: 0.2259 - accuracy: 0.9342\n",
      "Epoch 14/15\n",
      "1875/1875 [==============================] - 12s 6ms/step - loss: 0.2185 - accuracy: 0.9360\n",
      "Epoch 15/15\n",
      "1875/1875 [==============================] - 12s 6ms/step - loss: 0.2142 - accuracy: 0.9375\n",
      "\n",
      "************** Accuracy of  adagrad  *************\n",
      "\n",
      "313/313 [==============================] - 1s 2ms/step - loss: 0.1770 - accuracy: 0.9479\n",
      "\n",
      "************************************************************\n",
      "\n",
      "**************  ftrl  *************\n",
      "\n",
      "Epoch 1/15\n",
      "1875/1875 [==============================] - 13s 7ms/step - loss: 2.3024 - accuracy: 0.1120\n",
      "Epoch 2/15\n",
      "1875/1875 [==============================] - 13s 7ms/step - loss: 2.3022 - accuracy: 0.1124\n",
      "Epoch 3/15\n",
      "1875/1875 [==============================] - 13s 7ms/step - loss: 2.3020 - accuracy: 0.1124\n",
      "Epoch 4/15\n",
      "1875/1875 [==============================] - 13s 7ms/step - loss: 2.3020 - accuracy: 0.1124\n",
      "Epoch 5/15\n",
      "1875/1875 [==============================] - 13s 7ms/step - loss: 2.3019 - accuracy: 0.1124\n",
      "Epoch 6/15\n",
      "1875/1875 [==============================] - 13s 7ms/step - loss: 2.3019 - accuracy: 0.1124\n",
      "Epoch 7/15\n",
      "1875/1875 [==============================] - 13s 7ms/step - loss: 2.3018 - accuracy: 0.1124\n",
      "Epoch 8/15\n",
      "1875/1875 [==============================] - 13s 7ms/step - loss: 2.3018 - accuracy: 0.1124\n",
      "Epoch 9/15\n",
      "1875/1875 [==============================] - 13s 7ms/step - loss: 2.3017 - accuracy: 0.1124\n",
      "Epoch 10/15\n",
      "1875/1875 [==============================] - 13s 7ms/step - loss: 2.3017 - accuracy: 0.1124\n",
      "Epoch 11/15\n",
      "1875/1875 [==============================] - 13s 7ms/step - loss: 2.3017 - accuracy: 0.1124\n",
      "Epoch 12/15\n",
      "1875/1875 [==============================] - 13s 7ms/step - loss: 2.3017 - accuracy: 0.1124\n",
      "Epoch 13/15\n",
      "1875/1875 [==============================] - 13s 7ms/step - loss: 2.3016 - accuracy: 0.1124\n",
      "Epoch 14/15\n",
      "1875/1875 [==============================] - 13s 7ms/step - loss: 2.3016 - accuracy: 0.1124\n",
      "Epoch 15/15\n",
      "1875/1875 [==============================] - 13s 7ms/step - loss: 2.3016 - accuracy: 0.1124\n",
      "\n",
      "************** Accuracy of  ftrl  *************\n",
      "\n",
      "313/313 [==============================] - 1s 2ms/step - loss: 2.3015 - accuracy: 0.1135\n",
      "\n",
      "************************************************************\n",
      "\n",
      "**************  nadam  *************\n",
      "\n",
      "Epoch 1/15\n",
      "1875/1875 [==============================] - 15s 8ms/step - loss: 0.2077 - accuracy: 0.9384\n",
      "Epoch 2/15\n",
      "1875/1875 [==============================] - 14s 8ms/step - loss: 0.0842 - accuracy: 0.9743\n",
      "Epoch 3/15\n",
      "1875/1875 [==============================] - 14s 8ms/step - loss: 0.0547 - accuracy: 0.9827\n",
      "Epoch 4/15\n",
      "1875/1875 [==============================] - 15s 8ms/step - loss: 0.0422 - accuracy: 0.9864\n",
      "Epoch 5/15\n",
      "1875/1875 [==============================] - 14s 8ms/step - loss: 0.0332 - accuracy: 0.9886\n",
      "Epoch 6/15\n",
      "1875/1875 [==============================] - 15s 8ms/step - loss: 0.0276 - accuracy: 0.9907\n",
      "Epoch 7/15\n",
      "1875/1875 [==============================] - 15s 8ms/step - loss: 0.0245 - accuracy: 0.9920\n",
      "Epoch 8/15\n",
      "1875/1875 [==============================] - 14s 8ms/step - loss: 0.0200 - accuracy: 0.9934\n",
      "Epoch 9/15\n",
      "1875/1875 [==============================] - 14s 8ms/step - loss: 0.0186 - accuracy: 0.9937\n",
      "Epoch 10/15\n",
      "1875/1875 [==============================] - 15s 8ms/step - loss: 0.0173 - accuracy: 0.9939\n",
      "Epoch 11/15\n",
      "1875/1875 [==============================] - 15s 8ms/step - loss: 0.0135 - accuracy: 0.9953\n",
      "Epoch 12/15\n",
      "1875/1875 [==============================] - 15s 8ms/step - loss: 0.0157 - accuracy: 0.9948\n",
      "Epoch 13/15\n",
      "1875/1875 [==============================] - 14s 8ms/step - loss: 0.0139 - accuracy: 0.9952\n",
      "Epoch 14/15\n",
      "1875/1875 [==============================] - 14s 8ms/step - loss: 0.0140 - accuracy: 0.9951\n",
      "Epoch 15/15\n",
      "1875/1875 [==============================] - 14s 8ms/step - loss: 0.0118 - accuracy: 0.9958\n",
      "\n",
      "************** Accuracy of  nadam  *************\n",
      "\n",
      "313/313 [==============================] - 1s 2ms/step - loss: 0.0804 - accuracy: 0.9854\n",
      "\n",
      "************************************************************\n",
      "\n",
      "**************  rmsprop  *************\n",
      "\n",
      "Epoch 1/15\n",
      "1875/1875 [==============================] - 13s 7ms/step - loss: 0.2114 - accuracy: 0.9374\n",
      "Epoch 2/15\n",
      "1875/1875 [==============================] - 13s 7ms/step - loss: 0.0869 - accuracy: 0.9737\n",
      "Epoch 3/15\n",
      "1875/1875 [==============================] - 13s 7ms/step - loss: 0.0626 - accuracy: 0.9814\n",
      "Epoch 4/15\n",
      "1875/1875 [==============================] - 13s 7ms/step - loss: 0.0513 - accuracy: 0.9847\n",
      "Epoch 5/15\n",
      "1875/1875 [==============================] - 13s 7ms/step - loss: 0.0456 - accuracy: 0.9862\n",
      "Epoch 6/15\n",
      "1875/1875 [==============================] - 13s 7ms/step - loss: 0.0369 - accuracy: 0.9883\n",
      "Epoch 7/15\n",
      "1875/1875 [==============================] - 13s 7ms/step - loss: 0.0349 - accuracy: 0.9894\n",
      "Epoch 8/15\n",
      "1875/1875 [==============================] - 13s 7ms/step - loss: 0.0301 - accuracy: 0.9910\n",
      "Epoch 9/15\n",
      "1875/1875 [==============================] - 13s 7ms/step - loss: 0.0284 - accuracy: 0.9909\n",
      "Epoch 10/15\n",
      "1875/1875 [==============================] - 13s 7ms/step - loss: 0.0248 - accuracy: 0.9923\n",
      "Epoch 11/15\n",
      "1875/1875 [==============================] - 13s 7ms/step - loss: 0.0232 - accuracy: 0.9926\n",
      "Epoch 12/15\n",
      "1875/1875 [==============================] - 13s 7ms/step - loss: 0.0225 - accuracy: 0.9934\n",
      "Epoch 13/15\n",
      "1875/1875 [==============================] - 13s 7ms/step - loss: 0.0200 - accuracy: 0.9940\n",
      "Epoch 14/15\n",
      "1875/1875 [==============================] - 13s 7ms/step - loss: 0.0180 - accuracy: 0.9946\n",
      "Epoch 15/15\n",
      "1875/1875 [==============================] - 13s 7ms/step - loss: 0.0190 - accuracy: 0.9947\n",
      "\n",
      "************** Accuracy of  rmsprop  *************\n",
      "\n",
      "313/313 [==============================] - 1s 2ms/step - loss: 0.0968 - accuracy: 0.9848\n",
      "\n",
      "************************************************************\n",
      "\n"
     ]
    }
   ],
   "source": [
    "optimizer_performance = ['sgd', 'adam', 'adamax', 'adadelta', 'adagrad', 'ftrl', 'nadam', 'rmsprop']\n",
    "performance = {}\n",
    "for opti in optimizer_performance:\n",
    "    history, accuracy = model_creator(opti)\n",
    "    performance[opti] = [history, accuracy]"
   ]
  },
  {
   "cell_type": "markdown",
   "metadata": {},
   "source": [
    "## Plotting epoches vs accuracy of training model for all optimization techniques. "
   ]
  },
  {
   "cell_type": "code",
   "execution_count": 9,
   "metadata": {
    "execution": {
     "iopub.execute_input": "2020-09-17T03:21:41.096633Z",
     "iopub.status.busy": "2020-09-17T03:21:41.096407Z",
     "iopub.status.idle": "2020-09-17T03:21:41.498444Z",
     "shell.execute_reply": "2020-09-17T03:21:41.497398Z",
     "shell.execute_reply.started": "2020-09-17T03:21:41.096606Z"
    }
   },
   "outputs": [
    {
     "data": {
      "image/png": "[encoded data removed]",
      "text/plain": [
       "<Figure size 720x720 with 1 Axes>"
      ]
     },
     "metadata": {},
     "output_type": "display_data"
    }
   ],
   "source": [
    "f = plt.figure(figsize=(10,10))\n",
    "epochs = range(1,16)\n",
    "for opti in optimizer_performance:\n",
    "    loss_list = performance[opti][0].history['loss']\n",
    "    plt.plot(epochs, loss_list, label='Training loss-'+opti)\n",
    "plt.title('Training loss for optimizers')\n",
    "plt.xlabel('Epochs')\n",
    "plt.ylabel('Loss')\n",
    "plt.legend(loc = 'best')\n",
    "plt.show()"
   ]
  },
  {
   "cell_type": "code",
   "execution_count": 10,
   "metadata": {
    "execution": {
     "iopub.execute_input": "2020-09-17T03:21:41.499671Z",
     "iopub.status.busy": "2020-09-17T03:21:41.499458Z",
     "iopub.status.idle": "2020-09-17T03:21:41.510284Z",
     "shell.execute_reply": "2020-09-17T03:21:41.509201Z",
     "shell.execute_reply.started": "2020-09-17T03:21:41.499642Z"
    }
   },
   "outputs": [],
   "source": [
    "accuracy = []\n",
    "for opti in optimizer_performance:\n",
    "    accuracy.append(performance[opti][1])\n",
    "accuracydf = pd.DataFrame()\n",
    "accuracydf['Optimization Technique'] = optimizer_performance\n",
    "accuracydf['Accuracy in %'] = accuracy\n",
    "\n",
    "accuracydf = accuracydf.sort_values(['Accuracy in %'], ascending=False)\n",
    "accuracydf.index = range(1, len(accuracydf)+1)"
   ]
  },
  {
   "cell_type": "markdown",
   "metadata": {},
   "source": [
    "## Printing Test data accuracy for all optimizers "
   ]
  },
  {
   "cell_type": "code",
   "execution_count": 11,
   "metadata": {
    "execution": {
     "iopub.execute_input": "2020-09-17T03:21:41.511466Z",
     "iopub.status.busy": "2020-09-17T03:21:41.511254Z",
     "iopub.status.idle": "2020-09-17T03:21:41.522491Z",
     "shell.execute_reply": "2020-09-17T03:21:41.521769Z",
     "shell.execute_reply.started": "2020-09-17T03:21:41.511438Z"
    }
   },
   "outputs": [
    {
     "data": {
      "text/html": [
       "<div>\n",
       "<style scoped>\n",
       "    .dataframe tbody tr th:only-of-type {\n",
       "        vertical-align: middle;\n",
       "    }\n",
       "\n",
       "    .dataframe tbody tr th {\n",
       "        vertical-align: top;\n",
       "    }\n",
       "\n",
       "    .dataframe thead th {\n",
       "        text-align: right;\n",
       "    }\n",
       "</style>\n",
       "<table border=\"1\" class=\"dataframe\">\n",
       "  <thead>\n",
       "    <tr style=\"text-align: right;\">\n",
       "      <th></th>\n",
       "      <th>Optimization Technique</th>\n",
       "      <th>Accuracy in %</th>\n",
       "    </tr>\n",
       "  </thead>\n",
       "  <tbody>\n",
       "    <tr>\n",
       "      <th>1</th>\n",
       "      <td>adamax</td>\n",
       "      <td>98.63</td>\n",
       "    </tr>\n",
       "    <tr>\n",
       "      <th>2</th>\n",
       "      <td>nadam</td>\n",
       "      <td>98.54</td>\n",
       "    </tr>\n",
       "    <tr>\n",
       "      <th>3</th>\n",
       "      <td>adam</td>\n",
       "      <td>98.52</td>\n",
       "    </tr>\n",
       "    <tr>\n",
       "      <th>4</th>\n",
       "      <td>rmsprop</td>\n",
       "      <td>98.48</td>\n",
       "    </tr>\n",
       "    <tr>\n",
       "      <th>5</th>\n",
       "      <td>sgd</td>\n",
       "      <td>98.24</td>\n",
       "    </tr>\n",
       "    <tr>\n",
       "      <th>6</th>\n",
       "      <td>adagrad</td>\n",
       "      <td>94.79</td>\n",
       "    </tr>\n",
       "    <tr>\n",
       "      <th>7</th>\n",
       "      <td>adadelta</td>\n",
       "      <td>89.31</td>\n",
       "    </tr>\n",
       "    <tr>\n",
       "      <th>8</th>\n",
       "      <td>ftrl</td>\n",
       "      <td>11.35</td>\n",
       "    </tr>\n",
       "  </tbody>\n",
       "</table>\n",
       "</div>"
      ],
      "text/plain": [
       "  Optimization Technique  Accuracy in %\n",
       "1                 adamax          98.63\n",
       "2                  nadam          98.54\n",
       "3                   adam          98.52\n",
       "4                rmsprop          98.48\n",
       "5                    sgd          98.24\n",
       "6                adagrad          94.79\n",
       "7               adadelta          89.31\n",
       "8                   ftrl          11.35"
      ]
     },
     "execution_count": 11,
     "metadata": {},
     "output_type": "execute_result"
    }
   ],
   "source": [
    "accuracydf"
   ]
  }
 ],
 "metadata": {
  "kernelspec": {
   "display_name": "Python 3",
   "language": "python",
   "name": "python3"
  },
  "language_info": {
   "codemirror_mode": {
    "name": "ipython",
    "version": 3
   },
   "file_extension": ".py",
   "mimetype": "text/x-python",
   "name": "python",
   "nbconvert_exporter": "python",
   "pygments_lexer": "ipython3",
   "version": "3.7.7"
  }
 },
 "nbformat": 4,
 "nbformat_minor": 4
}
